{
 "cells": [
  {
   "cell_type": "code",
   "execution_count": null,
   "id": "7121e376",
   "metadata": {},
   "outputs": [],
   "source": [
    "%cd .."
   ]
  },
  {
   "cell_type": "code",
   "execution_count": null,
   "id": "276b262a",
   "metadata": {},
   "outputs": [],
   "source": [
    "import pickle\n",
    "from os.path import basename, dirname, splitext\n",
    "import librosa\n",
    "import librosa.display\n",
    "from IPython.display import Audio\n",
    "from src.audio_processing import remove_voice"
   ]
  },
  {
   "cell_type": "code",
   "execution_count": null,
   "id": "48ad074a",
   "metadata": {},
   "outputs": [],
   "source": [
    "with open(\"input/voice_data/train_voice_data.pkl\", \"rb\") as f:\n",
    "    voice_segments = pickle.load(f)\n",
    "    func = lambda x: f'{basename(dirname(x))}-{splitext(basename(x))[0]}'  # noqa: E731\n",
    "    voice_segments = {func(key): value for key, value in voice_segments.items()}"
   ]
  },
  {
   "cell_type": "code",
   "execution_count": null,
   "id": "e4df0745",
   "metadata": {},
   "outputs": [],
   "source": [
    "vs = voice_segments['yercac1-XC518223']\n",
    "vs"
   ]
  },
  {
   "cell_type": "code",
   "execution_count": null,
   "id": "be436e2e",
   "metadata": {},
   "outputs": [],
   "source": [
    "y, sr = librosa.load('input/birdclef-2025/train_audio/yercac1/XC518223.ogg', sr=32000)"
   ]
  },
  {
   "cell_type": "code",
   "execution_count": null,
   "id": "8b8958be",
   "metadata": {},
   "outputs": [],
   "source": [
    "Audio(y, rate=sr)"
   ]
  },
  {
   "cell_type": "code",
   "execution_count": null,
   "id": "4f51a848",
   "metadata": {},
   "outputs": [],
   "source": [
    "y_1 = remove_voice(y, vs, 32000, 'longest')"
   ]
  },
  {
   "cell_type": "code",
   "execution_count": null,
   "id": "a27183ca",
   "metadata": {},
   "outputs": [],
   "source": [
    "Audio(y_1, rate=sr)"
   ]
  },
  {
   "cell_type": "code",
   "execution_count": null,
   "id": "cb81c973",
   "metadata": {},
   "outputs": [],
   "source": [
    "y_2 = remove_voice(y, vs, 32000, 'concat')"
   ]
  },
  {
   "cell_type": "code",
   "execution_count": null,
   "id": "2b45919e",
   "metadata": {},
   "outputs": [],
   "source": [
    "Audio(y_2, rate=sr)"
   ]
  }
 ],
 "metadata": {
  "kernelspec": {
   "display_name": ".venv",
   "language": "python",
   "name": "python3"
  },
  "language_info": {
   "codemirror_mode": {
    "name": "ipython",
    "version": 3
   },
   "file_extension": ".py",
   "mimetype": "text/x-python",
   "name": "python",
   "nbconvert_exporter": "python",
   "pygments_lexer": "ipython3",
   "version": "3.13.3"
  }
 },
 "nbformat": 4,
 "nbformat_minor": 5
}
